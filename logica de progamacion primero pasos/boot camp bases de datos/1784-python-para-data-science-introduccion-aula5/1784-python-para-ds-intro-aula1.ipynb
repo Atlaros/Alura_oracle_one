{
  "nbformat": 4,
  "nbformat_minor": 0,
  "metadata": {
    "colab": {
      "name": "Python para DS - Introducción.ipynb",
      "provenance": []
    },
    "kernelspec": {
      "name": "python3",
      "display_name": "Python 3"
    }
  },
  "cells": [
    {
      "cell_type": "markdown",
      "metadata": {
        "id": "WC_I5dcwsWi5"
      },
      "source": [
        "#**Python para DS - Introducción al Lenguaje**"
      ]
    },
    {
      "cell_type": "code",
      "metadata": {
        "colab": {
          "base_uri": "https://localhost:8080/"
        },
        "id": "c7AzkJvVsNrL",
        "outputId": "677e8cb0-3552-4554-eeb6-e24f8bf71140"
      },
      "source": [
        "1 + 1"
      ],
      "execution_count": null,
      "outputs": [
        {
          "output_type": "execute_result",
          "data": {
            "text/plain": [
              "2"
            ]
          },
          "metadata": {
            "tags": []
          },
          "execution_count": 1
        }
      ]
    },
    {
      "cell_type": "code",
      "metadata": {
        "colab": {
          "base_uri": "https://localhost:8080/",
          "height": 35
        },
        "id": "2omT3iZgs-Yk",
        "outputId": "ca7f40fa-7fe5-4c2a-8c4e-7db8663fa6ec"
      },
      "source": [
        "'Christian'"
      ],
      "execution_count": null,
      "outputs": [
        {
          "output_type": "execute_result",
          "data": {
            "application/vnd.google.colaboratory.intrinsic+json": {
              "type": "string"
            },
            "text/plain": [
              "'Christian'"
            ]
          },
          "metadata": {
            "tags": []
          },
          "execution_count": 3
        }
      ]
    },
    {
      "cell_type": "code",
      "metadata": {
        "id": "PrqIz20btLEe"
      },
      "source": [
        "nombre = 'Juan'"
      ],
      "execution_count": null,
      "outputs": []
    },
    {
      "cell_type": "code",
      "metadata": {
        "colab": {
          "base_uri": "https://localhost:8080/",
          "height": 35
        },
        "id": "9nQdl8yTtkge",
        "outputId": "2c981853-44f8-4914-9cc3-937d959f574e"
      },
      "source": [
        "nombre"
      ],
      "execution_count": null,
      "outputs": [
        {
          "output_type": "execute_result",
          "data": {
            "application/vnd.google.colaboratory.intrinsic+json": {
              "type": "string"
            },
            "text/plain": [
              "'Juan'"
            ]
          },
          "metadata": {
            "tags": []
          },
          "execution_count": 14
        }
      ]
    },
    {
      "cell_type": "code",
      "metadata": {
        "id": "ob1AHxpztqxr"
      },
      "source": [
        "edad = 30"
      ],
      "execution_count": null,
      "outputs": []
    },
    {
      "cell_type": "code",
      "metadata": {
        "colab": {
          "base_uri": "https://localhost:8080/"
        },
        "id": "j3O3hrEDtuSM",
        "outputId": "bc010c49-ba58-491e-ad31-2c4309d91e02"
      },
      "source": [
        "edad"
      ],
      "execution_count": null,
      "outputs": [
        {
          "output_type": "execute_result",
          "data": {
            "text/plain": [
              "30"
            ]
          },
          "metadata": {
            "tags": []
          },
          "execution_count": 10
        }
      ]
    },
    {
      "cell_type": "markdown",
      "metadata": {
        "id": "rhDOvB1RvgxO"
      },
      "source": [
        "#Mi primera función"
      ]
    },
    {
      "cell_type": "code",
      "metadata": {
        "colab": {
          "base_uri": "https://localhost:8080/"
        },
        "id": "arEYVFMXtvlV",
        "outputId": "94865653-8be4-40e1-f6c7-c1b50fbf9b32"
      },
      "source": [
        "print('El nombre es Christian y su edad es 29 años')"
      ],
      "execution_count": null,
      "outputs": [
        {
          "output_type": "stream",
          "text": [
            "El nombre es Christian y su edad es 29 años\n"
          ],
          "name": "stdout"
        }
      ]
    },
    {
      "cell_type": "code",
      "metadata": {
        "colab": {
          "base_uri": "https://localhost:8080/"
        },
        "id": "0tjA8D_EveCX",
        "outputId": "5041adbc-c973-4622-ee09-107dcc832d36"
      },
      "source": [
        "print(f'El nombre es {nombre} y su edad es {edad} años')"
      ],
      "execution_count": null,
      "outputs": [
        {
          "output_type": "stream",
          "text": [
            "El nombre es Juan y su edad es 30 años\n"
          ],
          "name": "stdout"
        }
      ]
    },
    {
      "cell_type": "code",
      "metadata": {
        "id": "llJXbTL9wHCN"
      },
      "source": [
        "def saludar():\n",
        "  nombre = input('Digite su nombre: ')\n",
        "  print(f'Hola {nombre} sea bienvenid@!!!')"
      ],
      "execution_count": null,
      "outputs": []
    },
    {
      "cell_type": "code",
      "metadata": {
        "colab": {
          "base_uri": "https://localhost:8080/"
        },
        "id": "BSKXYOkUxDOJ",
        "outputId": "747d1b37-3e78-434a-a1e1-34e73622587a"
      },
      "source": [
        "saludar()"
      ],
      "execution_count": null,
      "outputs": [
        {
          "output_type": "stream",
          "text": [
            "Digite su nombre: Christian\n",
            "Hola Christian sea bienvenid@!!!\n"
          ],
          "name": "stdout"
        }
      ]
    },
    {
      "cell_type": "code",
      "metadata": {
        "colab": {
          "base_uri": "https://localhost:8080/"
        },
        "id": "Q6ARfykJxN6A",
        "outputId": "7d55c260-f270-4bdc-dd23-56f6ce7b0373"
      },
      "source": [
        "saludar()"
      ],
      "execution_count": null,
      "outputs": [
        {
          "output_type": "stream",
          "text": [
            "Digite su nombre: Eliana\n",
            "Hola Eliana sea bienvenid@!!!\n"
          ],
          "name": "stdout"
        }
      ]
    }
  ]
}