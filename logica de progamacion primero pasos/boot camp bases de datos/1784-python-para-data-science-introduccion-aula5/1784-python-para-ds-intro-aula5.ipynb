{
  "nbformat": 4,
  "nbformat_minor": 0,
  "metadata": {
    "colab": {
      "name": "Python para DS - Introducción.ipynb",
      "provenance": []
    },
    "kernelspec": {
      "name": "python3",
      "display_name": "Python 3"
    }
  },
  "cells": [
    {
      "cell_type": "markdown",
      "metadata": {
        "id": "WC_I5dcwsWi5"
      },
      "source": [
        "#**Python para DS - Introducción al Lenguaje**"
      ]
    },
    {
      "cell_type": "code",
      "metadata": {
        "colab": {
          "base_uri": "https://localhost:8080/"
        },
        "id": "c7AzkJvVsNrL",
        "outputId": "6a04fb65-fc75-488a-df4a-802ef0a81d86"
      },
      "source": [
        "1 + 1"
      ],
      "execution_count": 1,
      "outputs": [
        {
          "output_type": "execute_result",
          "data": {
            "text/plain": [
              "2"
            ]
          },
          "metadata": {
            "tags": []
          },
          "execution_count": 1
        }
      ]
    },
    {
      "cell_type": "code",
      "metadata": {
        "colab": {
          "base_uri": "https://localhost:8080/",
          "height": 35
        },
        "id": "2omT3iZgs-Yk",
        "outputId": "517d8d70-a620-46ee-d3f8-cd3fa4b0a4ea"
      },
      "source": [
        "'Christian'"
      ],
      "execution_count": 2,
      "outputs": [
        {
          "output_type": "execute_result",
          "data": {
            "application/vnd.google.colaboratory.intrinsic+json": {
              "type": "string"
            },
            "text/plain": [
              "'Christian'"
            ]
          },
          "metadata": {
            "tags": []
          },
          "execution_count": 2
        }
      ]
    },
    {
      "cell_type": "code",
      "metadata": {
        "id": "PrqIz20btLEe"
      },
      "source": [
        "nombre = 'Juan'"
      ],
      "execution_count": 3,
      "outputs": []
    },
    {
      "cell_type": "code",
      "metadata": {
        "colab": {
          "base_uri": "https://localhost:8080/",
          "height": 35
        },
        "id": "9nQdl8yTtkge",
        "outputId": "46b93e6a-5d89-4036-b26a-a408ea1076c5"
      },
      "source": [
        "nombre"
      ],
      "execution_count": 4,
      "outputs": [
        {
          "output_type": "execute_result",
          "data": {
            "application/vnd.google.colaboratory.intrinsic+json": {
              "type": "string"
            },
            "text/plain": [
              "'Juan'"
            ]
          },
          "metadata": {
            "tags": []
          },
          "execution_count": 4
        }
      ]
    },
    {
      "cell_type": "code",
      "metadata": {
        "id": "ob1AHxpztqxr"
      },
      "source": [
        "edad = 30"
      ],
      "execution_count": 5,
      "outputs": []
    },
    {
      "cell_type": "code",
      "metadata": {
        "colab": {
          "base_uri": "https://localhost:8080/"
        },
        "id": "j3O3hrEDtuSM",
        "outputId": "e076d695-7d08-4393-d42b-52e8b2e18cc6"
      },
      "source": [
        "edad"
      ],
      "execution_count": 6,
      "outputs": [
        {
          "output_type": "execute_result",
          "data": {
            "text/plain": [
              "30"
            ]
          },
          "metadata": {
            "tags": []
          },
          "execution_count": 6
        }
      ]
    },
    {
      "cell_type": "markdown",
      "metadata": {
        "id": "rhDOvB1RvgxO"
      },
      "source": [
        "#Mi primera función"
      ]
    },
    {
      "cell_type": "code",
      "metadata": {
        "colab": {
          "base_uri": "https://localhost:8080/"
        },
        "id": "arEYVFMXtvlV",
        "outputId": "95cde97a-f304-4f90-c2d8-889d5445053d"
      },
      "source": [
        "print('El nombre es Christian y su edad es 29 años')"
      ],
      "execution_count": 7,
      "outputs": [
        {
          "output_type": "stream",
          "text": [
            "El nombre es Christian y su edad es 29 años\n"
          ],
          "name": "stdout"
        }
      ]
    },
    {
      "cell_type": "code",
      "metadata": {
        "colab": {
          "base_uri": "https://localhost:8080/"
        },
        "id": "0tjA8D_EveCX",
        "outputId": "8adb78ae-9d29-4822-b136-a1a7b350b651"
      },
      "source": [
        "print(f'El nombre es {nombre} y su edad es {edad} años')"
      ],
      "execution_count": 8,
      "outputs": [
        {
          "output_type": "stream",
          "text": [
            "El nombre es Juan y su edad es 30 años\n"
          ],
          "name": "stdout"
        }
      ]
    },
    {
      "cell_type": "code",
      "metadata": {
        "id": "llJXbTL9wHCN"
      },
      "source": [
        "def saludar():\n",
        "  nombre = input('Digite su nombre: ')\n",
        "  print(f'Hola {nombre} sea bienvenid@!!!')"
      ],
      "execution_count": 9,
      "outputs": []
    },
    {
      "cell_type": "code",
      "metadata": {
        "colab": {
          "base_uri": "https://localhost:8080/"
        },
        "id": "BSKXYOkUxDOJ",
        "outputId": "48f99022-bb20-4b33-f613-05df21b8389b"
      },
      "source": [
        "saludar()"
      ],
      "execution_count": 10,
      "outputs": [
        {
          "output_type": "stream",
          "text": [
            "Digite su nombre: Chris\n",
            "Hola Chris sea bienvenid@!!!\n"
          ],
          "name": "stdout"
        }
      ]
    },
    {
      "cell_type": "code",
      "metadata": {
        "colab": {
          "base_uri": "https://localhost:8080/"
        },
        "id": "Q6ARfykJxN6A",
        "outputId": "7fba4f6a-a545-4d25-ea6b-38ee70dda98d"
      },
      "source": [
        "saludar()"
      ],
      "execution_count": 11,
      "outputs": [
        {
          "output_type": "stream",
          "text": [
            "Digite su nombre: andrea\n",
            "Hola andrea sea bienvenid@!!!\n"
          ],
          "name": "stdout"
        }
      ]
    },
    {
      "cell_type": "markdown",
      "metadata": {
        "id": "tRoE33x3Gqyb"
      },
      "source": [
        "#Parámetros"
      ]
    },
    {
      "cell_type": "code",
      "metadata": {
        "id": "r0D26rZOFwE9"
      },
      "source": [
        "nombre = 'Andrea'"
      ],
      "execution_count": 12,
      "outputs": []
    },
    {
      "cell_type": "code",
      "metadata": {
        "id": "fhoGutBwF62l"
      },
      "source": [
        "def saludar_con_parametros(nombre):\n",
        "  print(f'Hola {nombre} sea bienvenid@!!!')"
      ],
      "execution_count": 13,
      "outputs": []
    },
    {
      "cell_type": "code",
      "metadata": {
        "colab": {
          "base_uri": "https://localhost:8080/"
        },
        "id": "-uZ0ip7cGVC3",
        "outputId": "a1d9dfba-ecaa-4cb1-b067-8c114b93ba56"
      },
      "source": [
        "saludar_con_parametros(nombre)"
      ],
      "execution_count": 14,
      "outputs": [
        {
          "output_type": "stream",
          "text": [
            "Hola Andrea sea bienvenid@!!!\n"
          ],
          "name": "stdout"
        }
      ]
    },
    {
      "cell_type": "markdown",
      "metadata": {
        "id": "BB28-w3_MpEU"
      },
      "source": [
        "#Condicionales"
      ]
    },
    {
      "cell_type": "code",
      "metadata": {
        "colab": {
          "base_uri": "https://localhost:8080/"
        },
        "id": "V4q2VHLCGn3o",
        "outputId": "3aaca961-b7c6-4b94-9725-5b2cfba73942"
      },
      "source": [
        "edad = 18\n",
        "\n",
        "def verificar_si_puede_conducir(edad):\n",
        "  if edad >= 18:\n",
        "    print(\"Usted tiene edad suficiente para conducir\")\n",
        "  else:\n",
        "    print(\"Usted NO tiene edad suficiente para conducir\")\n",
        "  \n",
        "verificar_si_puede_conducir(edad)"
      ],
      "execution_count": 15,
      "outputs": [
        {
          "output_type": "stream",
          "text": [
            "Usted tiene edad suficiente para conducir\n"
          ],
          "name": "stdout"
        }
      ]
    },
    {
      "cell_type": "markdown",
      "metadata": {
        "id": "ZDlynzWuOIs_"
      },
      "source": [
        "#Condicionales sin parámatro y conversión de tipo de dato"
      ]
    },
    {
      "cell_type": "code",
      "metadata": {
        "colab": {
          "base_uri": "https://localhost:8080/"
        },
        "id": "GO_4pFqoKF2h",
        "outputId": "704290d7-8bc2-4953-9a46-3b9cc27e3b68"
      },
      "source": [
        "def verificar_si_puede_conducir_sin_parametro():\n",
        "  edad = input('Digite su edad: ')\n",
        "  edad = int(edad)\n",
        "  if edad >= 18:\n",
        "    print(\"Usted tiene edad suficiente para conducir\")\n",
        "  else:\n",
        "    print(\"Usted NO tiene edad suficiente para conducir\")\n",
        "\n",
        "verificar_si_puede_conducir_sin_parametro()"
      ],
      "execution_count": 16,
      "outputs": [
        {
          "output_type": "stream",
          "text": [
            "Digite su edad: 18\n",
            "Usted tiene edad suficiente para conducir\n"
          ],
          "name": "stdout"
        }
      ]
    },
    {
      "cell_type": "markdown",
      "metadata": {
        "id": "uxltwC02YdYw"
      },
      "source": [
        "#Listas"
      ]
    },
    {
      "cell_type": "code",
      "metadata": {
        "id": "fdD31rxOVCue"
      },
      "source": [
        "edad = 18\n",
        "nombre = 'Christian'"
      ],
      "execution_count": 17,
      "outputs": []
    },
    {
      "cell_type": "code",
      "metadata": {
        "id": "bdwqep_lVHsA"
      },
      "source": [
        "edades = [18,15,12,45,50]"
      ],
      "execution_count": 18,
      "outputs": []
    },
    {
      "cell_type": "code",
      "metadata": {
        "colab": {
          "base_uri": "https://localhost:8080/"
        },
        "id": "TD0W8NYrVe9i",
        "outputId": "e97ab602-8bb6-4772-82a4-d96a483073df"
      },
      "source": [
        "edades"
      ],
      "execution_count": 19,
      "outputs": [
        {
          "output_type": "execute_result",
          "data": {
            "text/plain": [
              "[18, 15, 12, 45, 50]"
            ]
          },
          "metadata": {
            "tags": []
          },
          "execution_count": 19
        }
      ]
    },
    {
      "cell_type": "code",
      "metadata": {
        "colab": {
          "base_uri": "https://localhost:8080/"
        },
        "id": "-hA9whqYVhtq",
        "outputId": "9747c772-7a58-4ed3-c62a-d7b2f8314af7"
      },
      "source": [
        "type(edad)"
      ],
      "execution_count": 20,
      "outputs": [
        {
          "output_type": "execute_result",
          "data": {
            "text/plain": [
              "int"
            ]
          },
          "metadata": {
            "tags": []
          },
          "execution_count": 20
        }
      ]
    },
    {
      "cell_type": "code",
      "metadata": {
        "colab": {
          "base_uri": "https://localhost:8080/"
        },
        "id": "N5DksdqrVomx",
        "outputId": "74a33666-3460-4a16-a589-2250c0bfe5c4"
      },
      "source": [
        "type(nombre)"
      ],
      "execution_count": 21,
      "outputs": [
        {
          "output_type": "execute_result",
          "data": {
            "text/plain": [
              "str"
            ]
          },
          "metadata": {
            "tags": []
          },
          "execution_count": 21
        }
      ]
    },
    {
      "cell_type": "code",
      "metadata": {
        "colab": {
          "base_uri": "https://localhost:8080/"
        },
        "id": "BcRRsjFjVtIx",
        "outputId": "54ef20d8-104f-43e8-8e9e-9c42b0ce68ba"
      },
      "source": [
        "type(edades)"
      ],
      "execution_count": 22,
      "outputs": [
        {
          "output_type": "execute_result",
          "data": {
            "text/plain": [
              "list"
            ]
          },
          "metadata": {
            "tags": []
          },
          "execution_count": 22
        }
      ]
    },
    {
      "cell_type": "code",
      "metadata": {
        "colab": {
          "base_uri": "https://localhost:8080/"
        },
        "id": "UIqwTTdpVwz6",
        "outputId": "310d8fbd-c99b-4b8c-ec5d-ee0b6431c3f9"
      },
      "source": [
        "edades"
      ],
      "execution_count": 23,
      "outputs": [
        {
          "output_type": "execute_result",
          "data": {
            "text/plain": [
              "[18, 15, 12, 45, 50]"
            ]
          },
          "metadata": {
            "tags": []
          },
          "execution_count": 23
        }
      ]
    },
    {
      "cell_type": "code",
      "metadata": {
        "colab": {
          "base_uri": "https://localhost:8080/"
        },
        "id": "BclPHEjLV_Zf",
        "outputId": "36d784f5-01fc-4682-c6e9-53a919dc5e0f"
      },
      "source": [
        "edades[2]"
      ],
      "execution_count": 24,
      "outputs": [
        {
          "output_type": "execute_result",
          "data": {
            "text/plain": [
              "12"
            ]
          },
          "metadata": {
            "tags": []
          },
          "execution_count": 24
        }
      ]
    },
    {
      "cell_type": "code",
      "metadata": {
        "colab": {
          "base_uri": "https://localhost:8080/"
        },
        "id": "vFAT24oxWDXC",
        "outputId": "416e4567-1db0-4cea-dee5-dd93c3dc4b11"
      },
      "source": [
        "# [18, 15, 12, 45, 50]\n",
        "#  0   1   2   3   4  \n",
        "edades[1]"
      ],
      "execution_count": 25,
      "outputs": [
        {
          "output_type": "execute_result",
          "data": {
            "text/plain": [
              "15"
            ]
          },
          "metadata": {
            "tags": []
          },
          "execution_count": 25
        }
      ]
    },
    {
      "cell_type": "code",
      "metadata": {
        "colab": {
          "base_uri": "https://localhost:8080/"
        },
        "id": "-QNDZcg-WT7B",
        "outputId": "fde85775-9b80-478a-c0f7-0c27245cbe6d"
      },
      "source": [
        "edades[0:3]"
      ],
      "execution_count": 26,
      "outputs": [
        {
          "output_type": "execute_result",
          "data": {
            "text/plain": [
              "[18, 15, 12]"
            ]
          },
          "metadata": {
            "tags": []
          },
          "execution_count": 26
        }
      ]
    },
    {
      "cell_type": "code",
      "metadata": {
        "colab": {
          "base_uri": "https://localhost:8080/"
        },
        "id": "4BsJPuWFWhFs",
        "outputId": "6b837bc5-c11f-48ef-ec63-5f3d23df1f3a"
      },
      "source": [
        "edades"
      ],
      "execution_count": 27,
      "outputs": [
        {
          "output_type": "execute_result",
          "data": {
            "text/plain": [
              "[18, 15, 12, 45, 50]"
            ]
          },
          "metadata": {
            "tags": []
          },
          "execution_count": 27
        }
      ]
    },
    {
      "cell_type": "code",
      "metadata": {
        "colab": {
          "base_uri": "https://localhost:8080/"
        },
        "id": "9nuQS0ZeWx9r",
        "outputId": "7a46a9c0-0c70-4b40-9204-d5a33d9a6dfc"
      },
      "source": [
        "edades[:]"
      ],
      "execution_count": 28,
      "outputs": [
        {
          "output_type": "execute_result",
          "data": {
            "text/plain": [
              "[18, 15, 12, 45, 50]"
            ]
          },
          "metadata": {
            "tags": []
          },
          "execution_count": 28
        }
      ]
    },
    {
      "cell_type": "code",
      "metadata": {
        "colab": {
          "base_uri": "https://localhost:8080/"
        },
        "id": "ovI1mwiYW0Qp",
        "outputId": "5284e1c3-8829-4eb4-b099-0ee721abe6cc"
      },
      "source": [
        "edades[1:]"
      ],
      "execution_count": 29,
      "outputs": [
        {
          "output_type": "execute_result",
          "data": {
            "text/plain": [
              "[15, 12, 45, 50]"
            ]
          },
          "metadata": {
            "tags": []
          },
          "execution_count": 29
        }
      ]
    },
    {
      "cell_type": "code",
      "metadata": {
        "colab": {
          "base_uri": "https://localhost:8080/"
        },
        "id": "gGHX5eGoW7ch",
        "outputId": "f82c397c-8f65-42e6-8901-f0270f33bd28"
      },
      "source": [
        "# [18, 15, 12, 45, 50]\n",
        "#  0   1   2   3   4  \n",
        "#  0  -4  -3  -2   -1   \n",
        "\n",
        "edades[-1]"
      ],
      "execution_count": 30,
      "outputs": [
        {
          "output_type": "execute_result",
          "data": {
            "text/plain": [
              "50"
            ]
          },
          "metadata": {
            "tags": []
          },
          "execution_count": 30
        }
      ]
    },
    {
      "cell_type": "code",
      "metadata": {
        "colab": {
          "base_uri": "https://localhost:8080/"
        },
        "id": "qlB-W161XMpq",
        "outputId": "c0b9769f-ee1c-48c6-f9f4-954d4cc386a8"
      },
      "source": [
        "edades[-3]"
      ],
      "execution_count": 31,
      "outputs": [
        {
          "output_type": "execute_result",
          "data": {
            "text/plain": [
              "12"
            ]
          },
          "metadata": {
            "tags": []
          },
          "execution_count": 31
        }
      ]
    },
    {
      "cell_type": "code",
      "metadata": {
        "colab": {
          "base_uri": "https://localhost:8080/"
        },
        "id": "KNh9J5_1XOSK",
        "outputId": "91c0df2c-ac16-4388-e383-28ffa675e233"
      },
      "source": [
        "edades[2]"
      ],
      "execution_count": 32,
      "outputs": [
        {
          "output_type": "execute_result",
          "data": {
            "text/plain": [
              "12"
            ]
          },
          "metadata": {
            "tags": []
          },
          "execution_count": 32
        }
      ]
    },
    {
      "cell_type": "markdown",
      "metadata": {
        "id": "wwQ7rfhJfmSM"
      },
      "source": [
        "#Ciclos y Bucles"
      ]
    },
    {
      "cell_type": "code",
      "metadata": {
        "colab": {
          "base_uri": "https://localhost:8080/"
        },
        "id": "rUFm0Z6nemgx",
        "outputId": "ccec7340-11a3-4044-b440-80d6d2528f77"
      },
      "source": [
        "#Bucle fuera de la función\n",
        "edades = [18,15,12,45,50]\n",
        "\n",
        "def verificar_si_puede_conducir(edad):\n",
        "  if edad >= 18:\n",
        "    print(\"Usted tiene edad suficiente para conducir\")\n",
        "  else:\n",
        "    print(\"Usted NO tiene edad suficiente para conducir\")\n",
        "\n",
        "\n",
        "for edad in edades:\n",
        "  verificar_si_puede_conducir(edad)\n"
      ],
      "execution_count": 33,
      "outputs": [
        {
          "output_type": "stream",
          "text": [
            "Usted tiene edad suficiente para conducir\n",
            "Usted NO tiene edad suficiente para conducir\n",
            "Usted NO tiene edad suficiente para conducir\n",
            "Usted tiene edad suficiente para conducir\n",
            "Usted tiene edad suficiente para conducir\n"
          ],
          "name": "stdout"
        }
      ]
    },
    {
      "cell_type": "code",
      "metadata": {
        "colab": {
          "base_uri": "https://localhost:8080/"
        },
        "id": "AuntWkXFfXHI",
        "outputId": "83973254-bba5-4d50-f8d5-70306b059af6"
      },
      "source": [
        "#Bucle dentro de la función\n",
        "edades = [18,15,12,45,50]\n",
        "\n",
        "def verificar_si_puede_conducir_con_bucle(edades):\n",
        "  for edad in edades:\n",
        "    if edad >= 18:\n",
        "      print(\"Usted tiene edad suficiente para conducir\")\n",
        "    else:\n",
        "      print(\"Usted NO tiene edad suficiente para conducir\")\n",
        "\n",
        "verificar_si_puede_conducir_con_bucle(edades)"
      ],
      "execution_count": 34,
      "outputs": [
        {
          "output_type": "stream",
          "text": [
            "Usted tiene edad suficiente para conducir\n",
            "Usted NO tiene edad suficiente para conducir\n",
            "Usted NO tiene edad suficiente para conducir\n",
            "Usted tiene edad suficiente para conducir\n",
            "Usted tiene edad suficiente para conducir\n"
          ],
          "name": "stdout"
        }
      ]
    },
    {
      "cell_type": "markdown",
      "metadata": {
        "id": "QlSevuGKLoJ_"
      },
      "source": [
        "#Booleano"
      ]
    },
    {
      "cell_type": "code",
      "metadata": {
        "id": "riw3tM94LnYx"
      },
      "source": [
        "edad = 18"
      ],
      "execution_count": 35,
      "outputs": []
    },
    {
      "cell_type": "code",
      "metadata": {
        "colab": {
          "base_uri": "https://localhost:8080/"
        },
        "id": "YsWnpfP6LteE",
        "outputId": "93f31e9b-43e9-44a9-893c-5f02695b2d62"
      },
      "source": [
        "edad >= 18"
      ],
      "execution_count": 36,
      "outputs": [
        {
          "output_type": "execute_result",
          "data": {
            "text/plain": [
              "True"
            ]
          },
          "metadata": {
            "tags": []
          },
          "execution_count": 36
        }
      ]
    },
    {
      "cell_type": "code",
      "metadata": {
        "colab": {
          "base_uri": "https://localhost:8080/"
        },
        "id": "9N5Rg77KLwKF",
        "outputId": "eed08f44-218f-4a7a-fad6-858b5f100b9a"
      },
      "source": [
        "edad < 18"
      ],
      "execution_count": 37,
      "outputs": [
        {
          "output_type": "execute_result",
          "data": {
            "text/plain": [
              "False"
            ]
          },
          "metadata": {
            "tags": []
          },
          "execution_count": 37
        }
      ]
    },
    {
      "cell_type": "code",
      "metadata": {
        "colab": {
          "base_uri": "https://localhost:8080/"
        },
        "id": "8xNll0ANL1KA",
        "outputId": "bc721ae7-4fe1-49cf-8b7c-7ef0c1d08df0"
      },
      "source": [
        "edad == 18"
      ],
      "execution_count": 38,
      "outputs": [
        {
          "output_type": "execute_result",
          "data": {
            "text/plain": [
              "True"
            ]
          },
          "metadata": {
            "tags": []
          },
          "execution_count": 38
        }
      ]
    },
    {
      "cell_type": "code",
      "metadata": {
        "colab": {
          "base_uri": "https://localhost:8080/"
        },
        "id": "LRL_6CsnL6aZ",
        "outputId": "c9039066-3581-4c16-e4da-b5d44ca3c820"
      },
      "source": [
        "verificaciones = []\n",
        "edades = [13,15,20]\n",
        "\n",
        "def verificar_si_puede_conducir_bool(verificaciones,edades):\n",
        "  for edad in edades:\n",
        "    if edad >= 18:\n",
        "      verificaciones.append(True)\n",
        "    else:\n",
        "      verificaciones.append(False)\n",
        "  for verificacion in verificaciones:\n",
        "    if verificacion == True:\n",
        "      print('Usted tiene edad suficiente para conducir')\n",
        "    else:\n",
        "      print(\"Usted NO tiene edad suficiente para conducir\")\n",
        "\n",
        "verificar_si_puede_conducir_bool(verificaciones,edades)\n"
      ],
      "execution_count": 39,
      "outputs": [
        {
          "output_type": "stream",
          "text": [
            "Usted NO tiene edad suficiente para conducir\n",
            "Usted NO tiene edad suficiente para conducir\n",
            "Usted tiene edad suficiente para conducir\n"
          ],
          "name": "stdout"
        }
      ]
    },
    {
      "cell_type": "markdown",
      "metadata": {
        "id": "C71oLot5Pn_B"
      },
      "source": [
        "#Lista con diferentes tipos de datos"
      ]
    },
    {
      "cell_type": "code",
      "metadata": {
        "id": "W1-qCyJAM4Yi"
      },
      "source": [
        "persona = ['Mariana',25,True,'México']"
      ],
      "execution_count": 40,
      "outputs": []
    },
    {
      "cell_type": "code",
      "metadata": {
        "colab": {
          "base_uri": "https://localhost:8080/"
        },
        "id": "E_sZ-aNtP34Z",
        "outputId": "9e47c2a5-8ab1-4030-9708-55402eab5319"
      },
      "source": [
        "persona"
      ],
      "execution_count": 41,
      "outputs": [
        {
          "output_type": "execute_result",
          "data": {
            "text/plain": [
              "['Mariana', 25, True, 'México']"
            ]
          },
          "metadata": {
            "tags": []
          },
          "execution_count": 41
        }
      ]
    },
    {
      "cell_type": "code",
      "metadata": {
        "colab": {
          "base_uri": "https://localhost:8080/"
        },
        "id": "au3Mnfr7P56h",
        "outputId": "4396c33b-69df-48a0-819b-7a9ca51a441e"
      },
      "source": [
        "for elemento in persona:\n",
        "  print(f'El elemento {elemento} de la lista es del tipo ', type(elemento))"
      ],
      "execution_count": 42,
      "outputs": [
        {
          "output_type": "stream",
          "text": [
            "El elemento Mariana de la lista es del tipo  <class 'str'>\n",
            "El elemento 25 de la lista es del tipo  <class 'int'>\n",
            "El elemento True de la lista es del tipo  <class 'bool'>\n",
            "El elemento México de la lista es del tipo  <class 'str'>\n"
          ],
          "name": "stdout"
        }
      ]
    },
    {
      "cell_type": "markdown",
      "metadata": {
        "id": "C8Vk43ipxZgq"
      },
      "source": [
        "#Importando una Biblioteca"
      ]
    },
    {
      "cell_type": "code",
      "metadata": {
        "id": "mYckhSNVQQ0R"
      },
      "source": [
        "from random import randrange, seed"
      ],
      "execution_count": 43,
      "outputs": []
    },
    {
      "cell_type": "code",
      "metadata": {
        "colab": {
          "base_uri": "https://localhost:8080/"
        },
        "id": "4VXcyGRLxl2E",
        "outputId": "aea17abc-30db-41a3-9c3d-2585bae41894"
      },
      "source": [
        "randrange(0,11)"
      ],
      "execution_count": 44,
      "outputs": [
        {
          "output_type": "execute_result",
          "data": {
            "text/plain": [
              "7"
            ]
          },
          "metadata": {
            "tags": []
          },
          "execution_count": 44
        }
      ]
    },
    {
      "cell_type": "code",
      "metadata": {
        "id": "2yegGUOBx1Jj"
      },
      "source": [
        "notas_matematicas = []"
      ],
      "execution_count": 45,
      "outputs": []
    },
    {
      "cell_type": "code",
      "metadata": {
        "id": "7aCqXtzZ1K0O"
      },
      "source": [
        "notas_matematicas.append(randrange(0,11))"
      ],
      "execution_count": 46,
      "outputs": []
    },
    {
      "cell_type": "code",
      "metadata": {
        "colab": {
          "base_uri": "https://localhost:8080/"
        },
        "id": "JZsCA2aq1R3g",
        "outputId": "b97ce720-6e89-4a95-c223-7dcab8d29320"
      },
      "source": [
        "notas_matematicas"
      ],
      "execution_count": 47,
      "outputs": [
        {
          "output_type": "execute_result",
          "data": {
            "text/plain": [
              "[2]"
            ]
          },
          "metadata": {
            "tags": []
          },
          "execution_count": 47
        }
      ]
    },
    {
      "cell_type": "code",
      "metadata": {
        "id": "zUKwdJ371TIx"
      },
      "source": [
        "notas_matematicas = []\n",
        "seed(8)\n",
        "for notas in range(6):\n",
        "  notas_matematicas.append(randrange(0,11))"
      ],
      "execution_count": 48,
      "outputs": []
    },
    {
      "cell_type": "code",
      "metadata": {
        "colab": {
          "base_uri": "https://localhost:8080/"
        },
        "id": "1YQjoT3a1ksn",
        "outputId": "08782567-a07f-452a-80e4-6769abc7dd38"
      },
      "source": [
        "notas_matematicas"
      ],
      "execution_count": 49,
      "outputs": [
        {
          "output_type": "execute_result",
          "data": {
            "text/plain": [
              "[3, 5, 6, 2, 3, 0]"
            ]
          },
          "metadata": {
            "tags": []
          },
          "execution_count": 49
        }
      ]
    },
    {
      "cell_type": "code",
      "metadata": {
        "colab": {
          "base_uri": "https://localhost:8080/"
        },
        "id": "0WPHrz7K1mVB",
        "outputId": "d4d1ff8d-51ff-4072-e17f-3b5501e6563a"
      },
      "source": [
        "len(notas_matematicas)"
      ],
      "execution_count": 50,
      "outputs": [
        {
          "output_type": "execute_result",
          "data": {
            "text/plain": [
              "6"
            ]
          },
          "metadata": {
            "tags": []
          },
          "execution_count": 50
        }
      ]
    },
    {
      "cell_type": "markdown",
      "metadata": {
        "id": "uI4EPxWYXbQr"
      },
      "source": [
        "#Biblioteca Matplotlib para gráficos"
      ]
    },
    {
      "cell_type": "code",
      "metadata": {
        "id": "0MiLbsk-1zsQ"
      },
      "source": [
        "import matplotlib.pyplot as plt "
      ],
      "execution_count": 51,
      "outputs": []
    },
    {
      "cell_type": "code",
      "metadata": {
        "colab": {
          "base_uri": "https://localhost:8080/"
        },
        "id": "4IxrJFspYCB8",
        "outputId": "2441c91f-6168-4bcb-89f9-39d2e711471b"
      },
      "source": [
        "list(range(1,7))"
      ],
      "execution_count": 52,
      "outputs": [
        {
          "output_type": "execute_result",
          "data": {
            "text/plain": [
              "[1, 2, 3, 4, 5, 6]"
            ]
          },
          "metadata": {
            "tags": []
          },
          "execution_count": 52
        }
      ]
    },
    {
      "cell_type": "code",
      "metadata": {
        "colab": {
          "base_uri": "https://localhost:8080/",
          "height": 295
        },
        "id": "OTdKuNkEYNEq",
        "outputId": "e10dc895-6fc7-436e-fae5-b07561fb1d0e"
      },
      "source": [
        "x = list(range(1,7))\n",
        "y = notas_matematicas\n",
        "\n",
        "plt.plot(x,y, marker = 'o')\n",
        "plt.title('Gráfico de las notas de Matemáticas')\n",
        "plt.xlabel('Pruebas')\n",
        "plt.ylabel('Notas')\n",
        "plt.show()"
      ],
      "execution_count": 60,
      "outputs": [
        {
          "output_type": "display_data",
          "data": {
            "image/png": "[encoded data removed]",
            "text/plain": [
              "<Figure size 432x288 with 1 Axes>"
            ]
          },
          "metadata": {
            "tags": [],
            "needs_background": "light"
          }
        }
      ]
    }
  ]
}