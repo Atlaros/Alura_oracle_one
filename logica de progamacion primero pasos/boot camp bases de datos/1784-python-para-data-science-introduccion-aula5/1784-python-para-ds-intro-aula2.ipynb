{
  "nbformat": 4,
  "nbformat_minor": 0,
  "metadata": {
    "colab": {
      "name": "Python para DS - Introducción.ipynb",
      "provenance": []
    },
    "kernelspec": {
      "name": "python3",
      "display_name": "Python 3"
    }
  },
  "cells": [
    {
      "cell_type": "markdown",
      "metadata": {
        "id": "WC_I5dcwsWi5"
      },
      "source": [
        "#**Python para DS - Introducción al Lenguaje**"
      ]
    },
    {
      "cell_type": "code",
      "metadata": {
        "colab": {
          "base_uri": "https://localhost:8080/"
        },
        "id": "c7AzkJvVsNrL",
        "outputId": "03ac6055-1035-49b7-9e60-432ad351fa40"
      },
      "source": [
        "1 + 1"
      ],
      "execution_count": 1,
      "outputs": [
        {
          "output_type": "execute_result",
          "data": {
            "text/plain": [
              "2"
            ]
          },
          "metadata": {
            "tags": []
          },
          "execution_count": 1
        }
      ]
    },
    {
      "cell_type": "code",
      "metadata": {
        "colab": {
          "base_uri": "https://localhost:8080/",
          "height": 35
        },
        "id": "2omT3iZgs-Yk",
        "outputId": "80ea8d69-ab54-41a5-9d83-864700c8e5ad"
      },
      "source": [
        "'Christian'"
      ],
      "execution_count": 2,
      "outputs": [
        {
          "output_type": "execute_result",
          "data": {
            "application/vnd.google.colaboratory.intrinsic+json": {
              "type": "string"
            },
            "text/plain": [
              "'Christian'"
            ]
          },
          "metadata": {
            "tags": []
          },
          "execution_count": 2
        }
      ]
    },
    {
      "cell_type": "code",
      "metadata": {
        "id": "PrqIz20btLEe"
      },
      "source": [
        "nombre = 'Juan'"
      ],
      "execution_count": 3,
      "outputs": []
    },
    {
      "cell_type": "code",
      "metadata": {
        "colab": {
          "base_uri": "https://localhost:8080/",
          "height": 35
        },
        "id": "9nQdl8yTtkge",
        "outputId": "151d8cae-7749-4c5b-9ca1-69b74d2b81db"
      },
      "source": [
        "nombre"
      ],
      "execution_count": 4,
      "outputs": [
        {
          "output_type": "execute_result",
          "data": {
            "application/vnd.google.colaboratory.intrinsic+json": {
              "type": "string"
            },
            "text/plain": [
              "'Juan'"
            ]
          },
          "metadata": {
            "tags": []
          },
          "execution_count": 4
        }
      ]
    },
    {
      "cell_type": "code",
      "metadata": {
        "id": "ob1AHxpztqxr"
      },
      "source": [
        "edad = 30"
      ],
      "execution_count": 5,
      "outputs": []
    },
    {
      "cell_type": "code",
      "metadata": {
        "colab": {
          "base_uri": "https://localhost:8080/"
        },
        "id": "j3O3hrEDtuSM",
        "outputId": "cfd81d79-32be-43c4-b811-405bfcc12277"
      },
      "source": [
        "edad"
      ],
      "execution_count": 6,
      "outputs": [
        {
          "output_type": "execute_result",
          "data": {
            "text/plain": [
              "30"
            ]
          },
          "metadata": {
            "tags": []
          },
          "execution_count": 6
        }
      ]
    },
    {
      "cell_type": "markdown",
      "metadata": {
        "id": "rhDOvB1RvgxO"
      },
      "source": [
        "#Mi primera función"
      ]
    },
    {
      "cell_type": "code",
      "metadata": {
        "colab": {
          "base_uri": "https://localhost:8080/"
        },
        "id": "arEYVFMXtvlV",
        "outputId": "fd1cca59-6927-4580-993c-f5d66bead31b"
      },
      "source": [
        "print('El nombre es Christian y su edad es 29 años')"
      ],
      "execution_count": 7,
      "outputs": [
        {
          "output_type": "stream",
          "text": [
            "El nombre es Christian y su edad es 29 años\n"
          ],
          "name": "stdout"
        }
      ]
    },
    {
      "cell_type": "code",
      "metadata": {
        "colab": {
          "base_uri": "https://localhost:8080/"
        },
        "id": "0tjA8D_EveCX",
        "outputId": "4c125528-ced3-40c8-8b10-b1e42ad2d1e6"
      },
      "source": [
        "print(f'El nombre es {nombre} y su edad es {edad} años')"
      ],
      "execution_count": 8,
      "outputs": [
        {
          "output_type": "stream",
          "text": [
            "El nombre es Juan y su edad es 30 años\n"
          ],
          "name": "stdout"
        }
      ]
    },
    {
      "cell_type": "code",
      "metadata": {
        "id": "llJXbTL9wHCN"
      },
      "source": [
        "def saludar():\n",
        "  nombre = input('Digite su nombre: ')\n",
        "  print(f'Hola {nombre} sea bienvenid@!!!')"
      ],
      "execution_count": 9,
      "outputs": []
    },
    {
      "cell_type": "code",
      "metadata": {
        "colab": {
          "base_uri": "https://localhost:8080/"
        },
        "id": "BSKXYOkUxDOJ",
        "outputId": "cbfdc661-aec7-40c2-82eb-46bbf1f794a9"
      },
      "source": [
        "saludar()"
      ],
      "execution_count": 10,
      "outputs": [
        {
          "output_type": "stream",
          "text": [
            "Digite su nombre: Christian\n",
            "Hola Christian sea bienvenid@!!!\n"
          ],
          "name": "stdout"
        }
      ]
    },
    {
      "cell_type": "code",
      "metadata": {
        "colab": {
          "base_uri": "https://localhost:8080/"
        },
        "id": "Q6ARfykJxN6A",
        "outputId": "badcecf9-3b6d-4ea0-fa31-999f77b0affe"
      },
      "source": [
        "saludar()"
      ],
      "execution_count": 11,
      "outputs": [
        {
          "output_type": "stream",
          "text": [
            "Digite su nombre: Eliana\n",
            "Hola Eliana sea bienvenid@!!!\n"
          ],
          "name": "stdout"
        }
      ]
    },
    {
      "cell_type": "markdown",
      "metadata": {
        "id": "tRoE33x3Gqyb"
      },
      "source": [
        "#Parámetros"
      ]
    },
    {
      "cell_type": "code",
      "metadata": {
        "id": "r0D26rZOFwE9"
      },
      "source": [
        "nombre = 'Andrea'"
      ],
      "execution_count": 12,
      "outputs": []
    },
    {
      "cell_type": "code",
      "metadata": {
        "id": "fhoGutBwF62l"
      },
      "source": [
        "def saludar_con_parametros(nombre):\n",
        "  print(f'Hola {nombre} sea bienvenid@!!!')"
      ],
      "execution_count": 13,
      "outputs": []
    },
    {
      "cell_type": "code",
      "metadata": {
        "colab": {
          "base_uri": "https://localhost:8080/"
        },
        "id": "-uZ0ip7cGVC3",
        "outputId": "d6094e13-2e47-4a89-d76d-ffc9d88f42e6"
      },
      "source": [
        "saludar_con_parametros(nombre)"
      ],
      "execution_count": 14,
      "outputs": [
        {
          "output_type": "stream",
          "text": [
            "Hola Andrea sea bienvenid@!!!\n"
          ],
          "name": "stdout"
        }
      ]
    },
    {
      "cell_type": "markdown",
      "metadata": {
        "id": "BB28-w3_MpEU"
      },
      "source": [
        "#Condicionales"
      ]
    },
    {
      "cell_type": "code",
      "metadata": {
        "colab": {
          "base_uri": "https://localhost:8080/"
        },
        "id": "V4q2VHLCGn3o",
        "outputId": "fb9da6b1-65a9-4d56-ce1f-7b46bc22e3e0"
      },
      "source": [
        "edad = 18\n",
        "\n",
        "def verificar_si_puede_conducir(edad):\n",
        "  if edad >= 18:\n",
        "    print(\"Usted tiene edad suficiente para conducir\")\n",
        "  else:\n",
        "    print(\"Usted NO tiene edad suficiente para conducir\")\n",
        "  \n",
        "verificar_si_puede_conducir(edad)"
      ],
      "execution_count": 21,
      "outputs": [
        {
          "output_type": "stream",
          "text": [
            "Usted tiene edad suficiente para conducir\n"
          ],
          "name": "stdout"
        }
      ]
    },
    {
      "cell_type": "markdown",
      "metadata": {
        "id": "ZDlynzWuOIs_"
      },
      "source": [
        "#Condicionales sin parámatro y conversión de tipo de dato"
      ]
    },
    {
      "cell_type": "code",
      "metadata": {
        "colab": {
          "base_uri": "https://localhost:8080/"
        },
        "id": "GO_4pFqoKF2h",
        "outputId": "f15f5e86-bf36-4438-f57a-3bfec71c7628"
      },
      "source": [
        "def verificar_si_puede_conducir_sin_parametro():\n",
        "  edad = input('Digite su edad: ')\n",
        "  edad = int(edad)\n",
        "  if edad >= 18:\n",
        "    print(\"Usted tiene edad suficiente para conducir\")\n",
        "  else:\n",
        "    print(\"Usted NO tiene edad suficiente para conducir\")\n",
        "\n",
        "verificar_si_puede_conducir_sin_parametro()"
      ],
      "execution_count": 25,
      "outputs": [
        {
          "output_type": "stream",
          "text": [
            "Digite su edad: 15\n",
            "Usted NO tiene edad suficiente para conducir\n"
          ],
          "name": "stdout"
        }
      ]
    }
  ]
}